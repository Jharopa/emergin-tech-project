{
 "cells": [
  {
   "cell_type": "markdown",
   "id": "b25b402a-9f38-483a-bf8e-2d413170e460",
   "metadata": {},
   "source": [
    "# scikit-learn\n",
    "***"
   ]
  },
  {
   "cell_type": "markdown",
   "id": "34be10d5-7580-46bc-8c2b-a3b8fd793145",
   "metadata": {},
   "source": [
    "## What is scikit-learn?\n",
    "***\n",
    "scikit-learn is a free open source python library that provides several tools for statistical modeling and machine learning. These include:\n",
    "- Classification algorithms, used to identify the category an object belongs to.\n",
    "- Regression algorithms, used to predict continuous-valued attributes associated with an object.\n",
    "- Clustering algorithms, used to group objects that share similar features together.\n",
    "- Dimensionality reduction algorithms, used to reduce the number of features within a data sample down to a set of principal features.\n",
    "- Support algorithms and functions, used for data preparation, cleaning, and model selection.\n",
    "\n",
    "scikit-learn is implemented for the most part in python but also uses cython for certain algorithms where performance is a priority. The library is also built upon or can be integrated with other libraries like NumPy, SciPy, and Mathplotlib."
   ]
  },
  {
   "cell_type": "markdown",
   "id": "ef3f158f-2b9d-4731-8471-cf26c14a93dd",
   "metadata": {},
   "source": [
    "## Setup\n",
    "***"
   ]
  },
  {
   "cell_type": "code",
   "execution_count": 56,
   "id": "d1072ee8-795d-4cb9-bca5-fb5233486d77",
   "metadata": {},
   "outputs": [],
   "source": [
    "# Imports\n",
    "\n",
    "# Numerical arrays\n",
    "import numpy as np\n",
    "\n",
    "# Data frames and series\n",
    "import pandas as pd\n",
    "\n",
    "# Plots\n",
    "import matplotlib.pyplot as plt\n",
    "\n",
    "# Fancier Plots\n",
    "import seaborn as sns\n",
    "\n",
    "# scikit-learn\n",
    "# Model selection helpers used for train_test_split\n",
    "import sklearn.model_selection as mod\n",
    "\n",
    "# Decision Tree\n",
    "import sklearn.tree as tr"
   ]
  },
  {
   "cell_type": "code",
   "execution_count": 57,
   "id": "e68a825b-3c0e-4db6-8dab-32f26e15a115",
   "metadata": {},
   "outputs": [],
   "source": [
    "# Sets plot size.\n",
    "plt.rcParams['figure.figsize'] = (20, 15)\n",
    "\n",
    "# Sets colour scheme.\n",
    "plt.style.use('ggplot')"
   ]
  },
  {
   "cell_type": "markdown",
   "id": "1581fb74-4092-4f6b-8b8f-d00ae0e5c6ec",
   "metadata": {},
   "source": [
    "## Red Wine Quality Dataset\n",
    "https://archive.ics.uci.edu/ml/datasets/Wine+Quality\n",
    "\n",
    "***"
   ]
  },
  {
   "cell_type": "markdown",
   "id": "17e893b7-0bb5-478d-9fc3-91271b091843",
   "metadata": {},
   "source": [
    "### Dataset features:\n",
    "\n",
    "***Independent features:***\n",
    "\n",
    "1. Fixed acidity\n",
    "2. Volatile acidity\n",
    "3. Citric acid\n",
    "4. Residual sugar\n",
    "5. Chlorides\n",
    "6. Free sulfer dioxide\n",
    "7. Total sulfur dioxide\n",
    "8. Density\n",
    "9. pH\n",
    "10. Sulphates\n",
    "11. Alcohol\n",
    "\n",
    "***Dependent feature:***\n",
    "\n",
    "* Quality\n",
    "\n",
    "***"
   ]
  },
  {
   "cell_type": "code",
   "execution_count": 58,
   "id": "344ab08a-8f7c-4f48-a159-66dac09f6665",
   "metadata": {},
   "outputs": [],
   "source": [
    "# Load the red wine dataset from the datasets directory into a pandas dataframe called wine\n",
    "wine = pd.read_csv(\"datasets/winequality-red.csv\")"
   ]
  },
  {
   "cell_type": "code",
   "execution_count": 59,
   "id": "52b63b2e-2920-430c-9822-e1400910f037",
   "metadata": {},
   "outputs": [
    {
     "data": {
      "text/html": [
       "<div>\n",
       "<style scoped>\n",
       "    .dataframe tbody tr th:only-of-type {\n",
       "        vertical-align: middle;\n",
       "    }\n",
       "\n",
       "    .dataframe tbody tr th {\n",
       "        vertical-align: top;\n",
       "    }\n",
       "\n",
       "    .dataframe thead th {\n",
       "        text-align: right;\n",
       "    }\n",
       "</style>\n",
       "<table border=\"1\" class=\"dataframe\">\n",
       "  <thead>\n",
       "    <tr style=\"text-align: right;\">\n",
       "      <th></th>\n",
       "      <th>fixed acidity</th>\n",
       "      <th>volatile acidity</th>\n",
       "      <th>citric acid</th>\n",
       "      <th>residual sugar</th>\n",
       "      <th>chlorides</th>\n",
       "      <th>free sulfur dioxide</th>\n",
       "      <th>total sulfur dioxide</th>\n",
       "      <th>density</th>\n",
       "      <th>pH</th>\n",
       "      <th>sulphates</th>\n",
       "      <th>alcohol</th>\n",
       "      <th>quality</th>\n",
       "    </tr>\n",
       "  </thead>\n",
       "  <tbody>\n",
       "    <tr>\n",
       "      <th>0</th>\n",
       "      <td>7.4</td>\n",
       "      <td>0.700</td>\n",
       "      <td>0.00</td>\n",
       "      <td>1.9</td>\n",
       "      <td>0.076</td>\n",
       "      <td>11.0</td>\n",
       "      <td>34.0</td>\n",
       "      <td>0.99780</td>\n",
       "      <td>3.51</td>\n",
       "      <td>0.56</td>\n",
       "      <td>9.4</td>\n",
       "      <td>5</td>\n",
       "    </tr>\n",
       "    <tr>\n",
       "      <th>1</th>\n",
       "      <td>7.8</td>\n",
       "      <td>0.880</td>\n",
       "      <td>0.00</td>\n",
       "      <td>2.6</td>\n",
       "      <td>0.098</td>\n",
       "      <td>25.0</td>\n",
       "      <td>67.0</td>\n",
       "      <td>0.99680</td>\n",
       "      <td>3.20</td>\n",
       "      <td>0.68</td>\n",
       "      <td>9.8</td>\n",
       "      <td>5</td>\n",
       "    </tr>\n",
       "    <tr>\n",
       "      <th>2</th>\n",
       "      <td>7.8</td>\n",
       "      <td>0.760</td>\n",
       "      <td>0.04</td>\n",
       "      <td>2.3</td>\n",
       "      <td>0.092</td>\n",
       "      <td>15.0</td>\n",
       "      <td>54.0</td>\n",
       "      <td>0.99700</td>\n",
       "      <td>3.26</td>\n",
       "      <td>0.65</td>\n",
       "      <td>9.8</td>\n",
       "      <td>5</td>\n",
       "    </tr>\n",
       "    <tr>\n",
       "      <th>3</th>\n",
       "      <td>11.2</td>\n",
       "      <td>0.280</td>\n",
       "      <td>0.56</td>\n",
       "      <td>1.9</td>\n",
       "      <td>0.075</td>\n",
       "      <td>17.0</td>\n",
       "      <td>60.0</td>\n",
       "      <td>0.99800</td>\n",
       "      <td>3.16</td>\n",
       "      <td>0.58</td>\n",
       "      <td>9.8</td>\n",
       "      <td>6</td>\n",
       "    </tr>\n",
       "    <tr>\n",
       "      <th>4</th>\n",
       "      <td>7.4</td>\n",
       "      <td>0.700</td>\n",
       "      <td>0.00</td>\n",
       "      <td>1.9</td>\n",
       "      <td>0.076</td>\n",
       "      <td>11.0</td>\n",
       "      <td>34.0</td>\n",
       "      <td>0.99780</td>\n",
       "      <td>3.51</td>\n",
       "      <td>0.56</td>\n",
       "      <td>9.4</td>\n",
       "      <td>5</td>\n",
       "    </tr>\n",
       "    <tr>\n",
       "      <th>...</th>\n",
       "      <td>...</td>\n",
       "      <td>...</td>\n",
       "      <td>...</td>\n",
       "      <td>...</td>\n",
       "      <td>...</td>\n",
       "      <td>...</td>\n",
       "      <td>...</td>\n",
       "      <td>...</td>\n",
       "      <td>...</td>\n",
       "      <td>...</td>\n",
       "      <td>...</td>\n",
       "      <td>...</td>\n",
       "    </tr>\n",
       "    <tr>\n",
       "      <th>1594</th>\n",
       "      <td>6.2</td>\n",
       "      <td>0.600</td>\n",
       "      <td>0.08</td>\n",
       "      <td>2.0</td>\n",
       "      <td>0.090</td>\n",
       "      <td>32.0</td>\n",
       "      <td>44.0</td>\n",
       "      <td>0.99490</td>\n",
       "      <td>3.45</td>\n",
       "      <td>0.58</td>\n",
       "      <td>10.5</td>\n",
       "      <td>5</td>\n",
       "    </tr>\n",
       "    <tr>\n",
       "      <th>1595</th>\n",
       "      <td>5.9</td>\n",
       "      <td>0.550</td>\n",
       "      <td>0.10</td>\n",
       "      <td>2.2</td>\n",
       "      <td>0.062</td>\n",
       "      <td>39.0</td>\n",
       "      <td>51.0</td>\n",
       "      <td>0.99512</td>\n",
       "      <td>3.52</td>\n",
       "      <td>0.76</td>\n",
       "      <td>11.2</td>\n",
       "      <td>6</td>\n",
       "    </tr>\n",
       "    <tr>\n",
       "      <th>1596</th>\n",
       "      <td>6.3</td>\n",
       "      <td>0.510</td>\n",
       "      <td>0.13</td>\n",
       "      <td>2.3</td>\n",
       "      <td>0.076</td>\n",
       "      <td>29.0</td>\n",
       "      <td>40.0</td>\n",
       "      <td>0.99574</td>\n",
       "      <td>3.42</td>\n",
       "      <td>0.75</td>\n",
       "      <td>11.0</td>\n",
       "      <td>6</td>\n",
       "    </tr>\n",
       "    <tr>\n",
       "      <th>1597</th>\n",
       "      <td>5.9</td>\n",
       "      <td>0.645</td>\n",
       "      <td>0.12</td>\n",
       "      <td>2.0</td>\n",
       "      <td>0.075</td>\n",
       "      <td>32.0</td>\n",
       "      <td>44.0</td>\n",
       "      <td>0.99547</td>\n",
       "      <td>3.57</td>\n",
       "      <td>0.71</td>\n",
       "      <td>10.2</td>\n",
       "      <td>5</td>\n",
       "    </tr>\n",
       "    <tr>\n",
       "      <th>1598</th>\n",
       "      <td>6.0</td>\n",
       "      <td>0.310</td>\n",
       "      <td>0.47</td>\n",
       "      <td>3.6</td>\n",
       "      <td>0.067</td>\n",
       "      <td>18.0</td>\n",
       "      <td>42.0</td>\n",
       "      <td>0.99549</td>\n",
       "      <td>3.39</td>\n",
       "      <td>0.66</td>\n",
       "      <td>11.0</td>\n",
       "      <td>6</td>\n",
       "    </tr>\n",
       "  </tbody>\n",
       "</table>\n",
       "<p>1599 rows × 12 columns</p>\n",
       "</div>"
      ],
      "text/plain": [
       "      fixed acidity  volatile acidity  citric acid  residual sugar  chlorides  \\\n",
       "0               7.4             0.700         0.00             1.9      0.076   \n",
       "1               7.8             0.880         0.00             2.6      0.098   \n",
       "2               7.8             0.760         0.04             2.3      0.092   \n",
       "3              11.2             0.280         0.56             1.9      0.075   \n",
       "4               7.4             0.700         0.00             1.9      0.076   \n",
       "...             ...               ...          ...             ...        ...   \n",
       "1594            6.2             0.600         0.08             2.0      0.090   \n",
       "1595            5.9             0.550         0.10             2.2      0.062   \n",
       "1596            6.3             0.510         0.13             2.3      0.076   \n",
       "1597            5.9             0.645         0.12             2.0      0.075   \n",
       "1598            6.0             0.310         0.47             3.6      0.067   \n",
       "\n",
       "      free sulfur dioxide  total sulfur dioxide  density    pH  sulphates  \\\n",
       "0                    11.0                  34.0  0.99780  3.51       0.56   \n",
       "1                    25.0                  67.0  0.99680  3.20       0.68   \n",
       "2                    15.0                  54.0  0.99700  3.26       0.65   \n",
       "3                    17.0                  60.0  0.99800  3.16       0.58   \n",
       "4                    11.0                  34.0  0.99780  3.51       0.56   \n",
       "...                   ...                   ...      ...   ...        ...   \n",
       "1594                 32.0                  44.0  0.99490  3.45       0.58   \n",
       "1595                 39.0                  51.0  0.99512  3.52       0.76   \n",
       "1596                 29.0                  40.0  0.99574  3.42       0.75   \n",
       "1597                 32.0                  44.0  0.99547  3.57       0.71   \n",
       "1598                 18.0                  42.0  0.99549  3.39       0.66   \n",
       "\n",
       "      alcohol  quality  \n",
       "0         9.4        5  \n",
       "1         9.8        5  \n",
       "2         9.8        5  \n",
       "3         9.8        6  \n",
       "4         9.4        5  \n",
       "...       ...      ...  \n",
       "1594     10.5        5  \n",
       "1595     11.2        6  \n",
       "1596     11.0        6  \n",
       "1597     10.2        5  \n",
       "1598     11.0        6  \n",
       "\n",
       "[1599 rows x 12 columns]"
      ]
     },
     "execution_count": 59,
     "metadata": {},
     "output_type": "execute_result"
    }
   ],
   "source": [
    "# Getting a look at the dataset\n",
    "wine"
   ]
  },
  {
   "cell_type": "code",
   "execution_count": 60,
   "id": "dd964c55-3126-484b-be4e-debd7f3226c7",
   "metadata": {},
   "outputs": [
    {
     "data": {
      "text/html": [
       "<div>\n",
       "<style scoped>\n",
       "    .dataframe tbody tr th:only-of-type {\n",
       "        vertical-align: middle;\n",
       "    }\n",
       "\n",
       "    .dataframe tbody tr th {\n",
       "        vertical-align: top;\n",
       "    }\n",
       "\n",
       "    .dataframe thead th {\n",
       "        text-align: right;\n",
       "    }\n",
       "</style>\n",
       "<table border=\"1\" class=\"dataframe\">\n",
       "  <thead>\n",
       "    <tr style=\"text-align: right;\">\n",
       "      <th></th>\n",
       "      <th>fixed acidity</th>\n",
       "      <th>volatile acidity</th>\n",
       "      <th>citric acid</th>\n",
       "      <th>residual sugar</th>\n",
       "      <th>chlorides</th>\n",
       "      <th>free sulfur dioxide</th>\n",
       "      <th>total sulfur dioxide</th>\n",
       "      <th>density</th>\n",
       "      <th>pH</th>\n",
       "      <th>sulphates</th>\n",
       "      <th>alcohol</th>\n",
       "      <th>quality</th>\n",
       "    </tr>\n",
       "  </thead>\n",
       "  <tbody>\n",
       "    <tr>\n",
       "      <th>count</th>\n",
       "      <td>1599.000000</td>\n",
       "      <td>1599.000000</td>\n",
       "      <td>1599.000000</td>\n",
       "      <td>1599.000000</td>\n",
       "      <td>1599.000000</td>\n",
       "      <td>1599.000000</td>\n",
       "      <td>1599.000000</td>\n",
       "      <td>1599.000000</td>\n",
       "      <td>1599.000000</td>\n",
       "      <td>1599.000000</td>\n",
       "      <td>1599.000000</td>\n",
       "      <td>1599.000000</td>\n",
       "    </tr>\n",
       "    <tr>\n",
       "      <th>mean</th>\n",
       "      <td>8.319637</td>\n",
       "      <td>0.527821</td>\n",
       "      <td>0.270976</td>\n",
       "      <td>2.538806</td>\n",
       "      <td>0.087467</td>\n",
       "      <td>15.874922</td>\n",
       "      <td>46.467792</td>\n",
       "      <td>0.996747</td>\n",
       "      <td>3.311113</td>\n",
       "      <td>0.658149</td>\n",
       "      <td>10.422983</td>\n",
       "      <td>5.636023</td>\n",
       "    </tr>\n",
       "    <tr>\n",
       "      <th>std</th>\n",
       "      <td>1.741096</td>\n",
       "      <td>0.179060</td>\n",
       "      <td>0.194801</td>\n",
       "      <td>1.409928</td>\n",
       "      <td>0.047065</td>\n",
       "      <td>10.460157</td>\n",
       "      <td>32.895324</td>\n",
       "      <td>0.001887</td>\n",
       "      <td>0.154386</td>\n",
       "      <td>0.169507</td>\n",
       "      <td>1.065668</td>\n",
       "      <td>0.807569</td>\n",
       "    </tr>\n",
       "    <tr>\n",
       "      <th>min</th>\n",
       "      <td>4.600000</td>\n",
       "      <td>0.120000</td>\n",
       "      <td>0.000000</td>\n",
       "      <td>0.900000</td>\n",
       "      <td>0.012000</td>\n",
       "      <td>1.000000</td>\n",
       "      <td>6.000000</td>\n",
       "      <td>0.990070</td>\n",
       "      <td>2.740000</td>\n",
       "      <td>0.330000</td>\n",
       "      <td>8.400000</td>\n",
       "      <td>3.000000</td>\n",
       "    </tr>\n",
       "    <tr>\n",
       "      <th>25%</th>\n",
       "      <td>7.100000</td>\n",
       "      <td>0.390000</td>\n",
       "      <td>0.090000</td>\n",
       "      <td>1.900000</td>\n",
       "      <td>0.070000</td>\n",
       "      <td>7.000000</td>\n",
       "      <td>22.000000</td>\n",
       "      <td>0.995600</td>\n",
       "      <td>3.210000</td>\n",
       "      <td>0.550000</td>\n",
       "      <td>9.500000</td>\n",
       "      <td>5.000000</td>\n",
       "    </tr>\n",
       "    <tr>\n",
       "      <th>50%</th>\n",
       "      <td>7.900000</td>\n",
       "      <td>0.520000</td>\n",
       "      <td>0.260000</td>\n",
       "      <td>2.200000</td>\n",
       "      <td>0.079000</td>\n",
       "      <td>14.000000</td>\n",
       "      <td>38.000000</td>\n",
       "      <td>0.996750</td>\n",
       "      <td>3.310000</td>\n",
       "      <td>0.620000</td>\n",
       "      <td>10.200000</td>\n",
       "      <td>6.000000</td>\n",
       "    </tr>\n",
       "    <tr>\n",
       "      <th>75%</th>\n",
       "      <td>9.200000</td>\n",
       "      <td>0.640000</td>\n",
       "      <td>0.420000</td>\n",
       "      <td>2.600000</td>\n",
       "      <td>0.090000</td>\n",
       "      <td>21.000000</td>\n",
       "      <td>62.000000</td>\n",
       "      <td>0.997835</td>\n",
       "      <td>3.400000</td>\n",
       "      <td>0.730000</td>\n",
       "      <td>11.100000</td>\n",
       "      <td>6.000000</td>\n",
       "    </tr>\n",
       "    <tr>\n",
       "      <th>max</th>\n",
       "      <td>15.900000</td>\n",
       "      <td>1.580000</td>\n",
       "      <td>1.000000</td>\n",
       "      <td>15.500000</td>\n",
       "      <td>0.611000</td>\n",
       "      <td>72.000000</td>\n",
       "      <td>289.000000</td>\n",
       "      <td>1.003690</td>\n",
       "      <td>4.010000</td>\n",
       "      <td>2.000000</td>\n",
       "      <td>14.900000</td>\n",
       "      <td>8.000000</td>\n",
       "    </tr>\n",
       "  </tbody>\n",
       "</table>\n",
       "</div>"
      ],
      "text/plain": [
       "       fixed acidity  volatile acidity  citric acid  residual sugar  \\\n",
       "count    1599.000000       1599.000000  1599.000000     1599.000000   \n",
       "mean        8.319637          0.527821     0.270976        2.538806   \n",
       "std         1.741096          0.179060     0.194801        1.409928   \n",
       "min         4.600000          0.120000     0.000000        0.900000   \n",
       "25%         7.100000          0.390000     0.090000        1.900000   \n",
       "50%         7.900000          0.520000     0.260000        2.200000   \n",
       "75%         9.200000          0.640000     0.420000        2.600000   \n",
       "max        15.900000          1.580000     1.000000       15.500000   \n",
       "\n",
       "         chlorides  free sulfur dioxide  total sulfur dioxide      density  \\\n",
       "count  1599.000000          1599.000000           1599.000000  1599.000000   \n",
       "mean      0.087467            15.874922             46.467792     0.996747   \n",
       "std       0.047065            10.460157             32.895324     0.001887   \n",
       "min       0.012000             1.000000              6.000000     0.990070   \n",
       "25%       0.070000             7.000000             22.000000     0.995600   \n",
       "50%       0.079000            14.000000             38.000000     0.996750   \n",
       "75%       0.090000            21.000000             62.000000     0.997835   \n",
       "max       0.611000            72.000000            289.000000     1.003690   \n",
       "\n",
       "                pH    sulphates      alcohol      quality  \n",
       "count  1599.000000  1599.000000  1599.000000  1599.000000  \n",
       "mean      3.311113     0.658149    10.422983     5.636023  \n",
       "std       0.154386     0.169507     1.065668     0.807569  \n",
       "min       2.740000     0.330000     8.400000     3.000000  \n",
       "25%       3.210000     0.550000     9.500000     5.000000  \n",
       "50%       3.310000     0.620000    10.200000     6.000000  \n",
       "75%       3.400000     0.730000    11.100000     6.000000  \n",
       "max       4.010000     2.000000    14.900000     8.000000  "
      ]
     },
     "execution_count": 60,
     "metadata": {},
     "output_type": "execute_result"
    }
   ],
   "source": [
    "# Displays summary statistics for dataset.\n",
    "wine.describe()"
   ]
  },
  {
   "cell_type": "code",
   "execution_count": 61,
   "id": "1eea6a8d-c1b6-4683-9594-1177d13408b1",
   "metadata": {},
   "outputs": [
    {
     "data": {
      "text/plain": [
       "fixed acidity           0\n",
       "volatile acidity        0\n",
       "citric acid             0\n",
       "residual sugar          0\n",
       "chlorides               0\n",
       "free sulfur dioxide     0\n",
       "total sulfur dioxide    0\n",
       "density                 0\n",
       "pH                      0\n",
       "sulphates               0\n",
       "alcohol                 0\n",
       "quality                 0\n",
       "dtype: int64"
      ]
     },
     "execution_count": 61,
     "metadata": {},
     "output_type": "execute_result"
    }
   ],
   "source": [
    "# Gives the count of NaN values for each column in the dataframe\n",
    "wine.isnull().sum()"
   ]
  },
  {
   "cell_type": "markdown",
   "id": "099284e1-e7eb-4d10-9649-1195cae96276",
   "metadata": {},
   "source": [
    "**Notes:**\n",
    "* Dataset appears to have no missing values."
   ]
  },
  {
   "cell_type": "code",
   "execution_count": 62,
   "id": "ffa11a04-c9c5-4242-b7fa-f43f2c3729bb",
   "metadata": {},
   "outputs": [
    {
     "data": {
      "text/plain": [
       "array([5, 6, 7, 4, 8, 3], dtype=int64)"
      ]
     },
     "execution_count": 62,
     "metadata": {},
     "output_type": "execute_result"
    }
   ],
   "source": [
    "# Gives the unique values for quality and orders by most to least common\n",
    "wine['quality'].unique()"
   ]
  },
  {
   "cell_type": "markdown",
   "id": "a0090ad8-36fe-4cc8-b488-f1915f27d09b",
   "metadata": {},
   "source": [
    "**Notes:**\n",
    "* [Wine Quality Data Set](https://archive.ics.uci.edu/ml/datasets/Wine+Quality) page describes quality scale as being from 0 to 10 but only contains values from 3 to 8."
   ]
  },
  {
   "cell_type": "code",
   "execution_count": 63,
   "id": "b27a160e-79be-4f6f-88d5-1974d5daff0b",
   "metadata": {},
   "outputs": [],
   "source": [
    "# Changes quality attribute to catagory where a quality [3, 4, 5] = Low and [6, 7, 8] = High\n",
    "# This is done to simplify the classification problem\n",
    "wine[\"quality\"] = pd.cut(wine[\"quality\"], bins = [-np.inf, 5, np.inf], labels = [\"Low\", \"High\"])"
   ]
  },
  {
   "cell_type": "code",
   "execution_count": 64,
   "id": "632123b8-ed64-4fc2-be72-119f2ef98ec1",
   "metadata": {},
   "outputs": [
    {
     "data": {
      "text/plain": [
       "0        Low\n",
       "1        Low\n",
       "2        Low\n",
       "3       High\n",
       "4        Low\n",
       "        ... \n",
       "1594     Low\n",
       "1595    High\n",
       "1596    High\n",
       "1597     Low\n",
       "1598    High\n",
       "Name: quality, Length: 1599, dtype: category\n",
       "Categories (2, object): ['Low' < 'High']"
      ]
     },
     "execution_count": 64,
     "metadata": {},
     "output_type": "execute_result"
    }
   ],
   "source": [
    "# Getting a look at new quality values\n",
    "wine[\"quality\"]"
   ]
  },
  {
   "cell_type": "markdown",
   "id": "8f105b99-3bcb-4f4c-9328-1b5e6bb45089",
   "metadata": {},
   "source": [
    "## Visualising Dataset\n",
    "***"
   ]
  },
  {
   "cell_type": "code",
   "execution_count": 65,
   "id": "7112d8cd-3f13-442e-b6d5-75ff1046c5a1",
   "metadata": {},
   "outputs": [
    {
     "data": {
      "text/plain": [
       "array([[<AxesSubplot:title={'center':'fixed acidity'}>,\n",
       "        <AxesSubplot:title={'center':'volatile acidity'}>,\n",
       "        <AxesSubplot:title={'center':'citric acid'}>],\n",
       "       [<AxesSubplot:title={'center':'residual sugar'}>,\n",
       "        <AxesSubplot:title={'center':'chlorides'}>,\n",
       "        <AxesSubplot:title={'center':'free sulfur dioxide'}>],\n",
       "       [<AxesSubplot:title={'center':'total sulfur dioxide'}>,\n",
       "        <AxesSubplot:title={'center':'density'}>,\n",
       "        <AxesSubplot:title={'center':'pH'}>],\n",
       "       [<AxesSubplot:title={'center':'sulphates'}>,\n",
       "        <AxesSubplot:title={'center':'alcohol'}>, <AxesSubplot:>]],\n",
       "      dtype=object)"
      ]
     },
     "execution_count": 65,
     "metadata": {},
     "output_type": "execute_result"
    },
    {
     "data": {
      "image/png": "[encoded data removed]",
      "text/plain": [
       "<Figure size 1440x1080 with 12 Axes>"
      ]
     },
     "metadata": {},
     "output_type": "display_data"
    }
   ],
   "source": [
    "# Displays histograms of dataset attributes\n",
    "wine.hist()"
   ]
  },
  {
   "cell_type": "code",
   "execution_count": 66,
   "id": "1957a339-b4ff-4e2a-9181-ab548999cb16",
   "metadata": {},
   "outputs": [
    {
     "data": {
      "text/plain": [
       "<AxesSubplot:>"
      ]
     },
     "execution_count": 66,
     "metadata": {},
     "output_type": "execute_result"
    },
    {
     "data": {
      "image/png": "[encoded data removed]",
      "text/plain": [
       "<Figure size 1440x1080 with 1 Axes>"
      ]
     },
     "metadata": {},
     "output_type": "display_data"
    }
   ],
   "source": [
    "# Displays barchart showing quantity of records in dataset for a given quality category\n",
    "wine['quality'].value_counts().plot(kind='bar')"
   ]
  },
  {
   "cell_type": "code",
   "execution_count": 67,
   "id": "dc48e8d3-65bc-4349-940c-9b36ba14e664",
   "metadata": {},
   "outputs": [],
   "source": [
    "# Displays a pair plot of dataset attributes using quality attribute as hue\n",
    "#sns.pairplot(wine, hue='quality', corner=True)"
   ]
  },
  {
   "cell_type": "markdown",
   "id": "9504c056-219b-48fb-97be-b7caccc18eb9",
   "metadata": {},
   "source": [
    "## Preprocessing\n",
    "***"
   ]
  },
  {
   "cell_type": "code",
   "execution_count": 68,
   "id": "fe70c075-389a-478f-b17a-f18e7f350973",
   "metadata": {},
   "outputs": [],
   "source": [
    "# Creates dataframe with all attributes except quality (input features)\n",
    "X = wine.drop(\"quality\", axis = 1)\n",
    "\n",
    "# Creates dataseries of just the quality attribute (output feature)\n",
    "y = wine[\"quality\"]"
   ]
  },
  {
   "cell_type": "code",
   "execution_count": 69,
   "id": "41c9bd0e-5f24-4493-8f69-5fcd5424a457",
   "metadata": {},
   "outputs": [],
   "source": [
    "# Splits dataset into testing and training sets using X and y declared above\n",
    "# test_size of 0.2 creates a 80/20 split of training data to test data\n",
    "# random_state uses 5040 as a seed to make the splitting of sets deterministic\n",
    "X_train, X_test, y_train, y_test = mod.train_test_split(X, y, test_size = 0.2, random_state = 5040)"
   ]
  },
  {
   "cell_type": "markdown",
   "id": "6613299f-c3f1-417f-b689-11561cec253e",
   "metadata": {},
   "source": [
    "**References:** \n",
    "* https://scikit-learn.org/stable/modules/generated/sklearn.model_selection.train_test_split.html"
   ]
  },
  {
   "cell_type": "markdown",
   "id": "a8164061-b032-4ebd-8abc-dbefb6cedf7f",
   "metadata": {},
   "source": [
    "## Decision Tree Demonstration\n",
    "***"
   ]
  },
  {
   "cell_type": "markdown",
   "id": "a7a349ce-2b49-4697-886e-bee1e7ac3ab8",
   "metadata": {},
   "source": [
    "Decision trees are a supervised learning model that can be used for both classification and regression. This classifier builds a tree like structure composed of decision rules inferred from input data features. A target variable can be predicted by moving down through the tree, selecting branches based on the value of the data features. For the purposes of this notebook the decision tree will be used for classification.\n",
    "***"
   ]
  },
  {
   "cell_type": "code",
   "execution_count": 91,
   "id": "229b2747-1a27-41e7-a1b4-a747efd2fb69",
   "metadata": {},
   "outputs": [],
   "source": [
    "# Selects decision tree classifier\n",
    "dt = tr.DecisionTreeClassifier()"
   ]
  },
  {
   "cell_type": "code",
   "execution_count": 92,
   "id": "17549e53-4195-4587-be62-9df030fd05f2",
   "metadata": {},
   "outputs": [
    {
     "data": {
      "text/plain": [
       "DecisionTreeClassifier()"
      ]
     },
     "execution_count": 92,
     "metadata": {},
     "output_type": "execute_result"
    }
   ],
   "source": [
    "# Builds classifer using input and output training data\n",
    "dt.fit(X_train, y_train)"
   ]
  },
  {
   "cell_type": "code",
   "execution_count": 93,
   "id": "b3e97efa-d878-4e18-b4b7-d427e707c6d2",
   "metadata": {},
   "outputs": [],
   "source": [
    "# Creates predictions of output data based on input testing data \n",
    "predictions = dt.predict(X_test)"
   ]
  },
  {
   "cell_type": "code",
   "execution_count": 94,
   "id": "9ce8a585-b3b4-4286-b5e8-3fa26429da70",
   "metadata": {},
   "outputs": [
    {
     "data": {
      "text/plain": [
       "<AxesSubplot:>"
      ]
     },
     "execution_count": 94,
     "metadata": {},
     "output_type": "execute_result"
    },
    {
     "data": {
      "image/png": "[encoded data removed]",
      "text/plain": [
       "<Figure size 1440x1080 with 1 Axes>"
      ]
     },
     "metadata": {},
     "output_type": "display_data"
    }
   ],
   "source": [
    "# Displays barchart of showing quanity of correct and incorrect predictions\n",
    "(predictions == y_test).value_counts().plot(kind='bar')"
   ]
  },
  {
   "cell_type": "code",
   "execution_count": 95,
   "id": "55e9664c-d92c-4c6f-b8ed-a53224a1a705",
   "metadata": {},
   "outputs": [
    {
     "name": "stdout",
     "output_type": "stream",
     "text": [
      "Accuracy: 73.125 %\n"
     ]
    }
   ],
   "source": [
    "# Displays accuracy of classifiers correct predictions as a precentage\n",
    "accuracy = dt.score(X_test, y_test) * 100\n",
    "print(f\"Accuracy: {accuracy} %\")"
   ]
  },
  {
   "cell_type": "code",
   "execution_count": 122,
   "id": "dac30ce2-02d7-4744-9b92-65cabb85e653",
   "metadata": {},
   "outputs": [
    {
     "data": {
      "text/plain": [
       "array([0.55      , 0.75      , 0.58125   , 0.625     , 0.55625   ,\n",
       "       0.7375    , 0.6625    , 0.68125   , 0.60625   , 0.62264151])"
      ]
     },
     "execution_count": 122,
     "metadata": {},
     "output_type": "execute_result"
    }
   ],
   "source": [
    "# Preforming cross validation using decision tree classifier and dataset input and output features\n",
    "# cv determines number of folds dataset is split into during cross validation\n",
    "dt_cv_scores = mod.cross_val_score(dt, X, y, cv = 10)\n",
    "dt_cv_scores"
   ]
  },
  {
   "cell_type": "code",
   "execution_count": 123,
   "id": "3a89d2d8-d9f9-4c40-9350-36ae5ad5954e",
   "metadata": {},
   "outputs": [
    {
     "name": "stdout",
     "output_type": "stream",
     "text": [
      "Mean: 0.6372641509433963 \t Standard Deviation: 0.06631004335251638\n"
     ]
    }
   ],
   "source": [
    "# Prints average and standard deviation of cross validation scores\n",
    "print(f\"Mean: {dt_cv_scores.mean()} \\t Standard Deviation: {dt_cv_scores.std()}\")"
   ]
  },
  {
   "cell_type": "markdown",
   "id": "c48278fd-2c96-4829-807a-2a2a3ade4faf",
   "metadata": {},
   "source": [
    "## Algorithm Demo #2"
   ]
  },
  {
   "cell_type": "code",
   "execution_count": null,
   "id": "ed202e69-f6e1-4880-bd02-f1d5deae6a0e",
   "metadata": {},
   "outputs": [],
   "source": []
  },
  {
   "cell_type": "markdown",
   "id": "fda9c5ae-fb10-4b26-bf17-5c9b27e15e40",
   "metadata": {},
   "source": [
    "## Algorithm Demo #3"
   ]
  },
  {
   "cell_type": "code",
   "execution_count": null,
   "id": "c7f191ff-be13-4267-af62-c150c57dc5ae",
   "metadata": {},
   "outputs": [],
   "source": []
  }
 ],
 "metadata": {
  "kernelspec": {
   "display_name": "Python 3",
   "language": "python",
   "name": "python3"
  },
  "language_info": {
   "codemirror_mode": {
    "name": "ipython",
    "version": 3
   },
   "file_extension": ".py",
   "mimetype": "text/x-python",
   "name": "python",
   "nbconvert_exporter": "python",
   "pygments_lexer": "ipython3",
   "version": "3.8.8"
  }
 },
 "nbformat": 4,
 "nbformat_minor": 5
}
