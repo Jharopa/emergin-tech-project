{
 "cells": [
  {
   "cell_type": "markdown",
   "id": "d15c75e0-08d4-4557-942d-4b8dc8060012",
   "metadata": {},
   "source": [
    "## Quantum vs. Classical Computing\n",
    "***"
   ]
  },
  {
   "cell_type": "markdown",
   "id": "00e47e1b-5288-4db3-bbc1-7dba8c5201c3",
   "metadata": {},
   "source": []
  },
  {
   "cell_type": "markdown",
   "id": "f8879697-93dd-4b10-ac14-ad2fd8a8a1b7",
   "metadata": {},
   "source": [
    "## Deutsch’s algorithm\n",
    "***"
   ]
  },
  {
   "cell_type": "markdown",
   "id": "09f95e11-1e59-4a82-8e64-dd461ea51412",
   "metadata": {},
   "source": []
  }
 ],
 "metadata": {
  "kernelspec": {
   "display_name": "Python 3",
   "language": "python",
   "name": "python3"
  },
  "language_info": {
   "codemirror_mode": {
    "name": "ipython",
    "version": 3
   },
   "file_extension": ".py",
   "mimetype": "text/x-python",
   "name": "python",
   "nbconvert_exporter": "python",
   "pygments_lexer": "ipython3",
   "version": "3.8.8"
  }
 },
 "nbformat": 4,
 "nbformat_minor": 5
}
