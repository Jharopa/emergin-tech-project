{
 "cells": [
  {
   "cell_type": "markdown",
   "id": "b25b402a-9f38-483a-bf8e-2d413170e460",
   "metadata": {},
   "source": [
    "# scikit-learn\n",
    "***"
   ]
  },
  {
   "cell_type": "markdown",
   "id": "34be10d5-7580-46bc-8c2b-a3b8fd793145",
   "metadata": {},
   "source": [
    "## What is scikit-learn?\n",
    "scikit-learn is a free open source python library that provides several tools for statistical modeling and machine learning. These include:\n",
    "- Classification algorithms, used to identify the category an object belongs to.\n",
    "- Regression algorithms, used to predict continuous-valued attributes associated with an object.\n",
    "- Clustering algorithms, used to group objects that share similar features together.\n",
    "- Dimensionality reduction algorithms, used to reduce the number of feature within a data sample down to a set of principal features.\n",
    "- Support algorithms and functions, used for data preparation, cleaning, and model selection.\n",
    "\n",
    "scikit-learn is implemented for the most part in python but also uses cython for certain algorithms where performance is a priority. The library is also built upon or can be integrated with other libraries like NumPy, SciPy, and Mathplotlib."
   ]
  },
  {
   "cell_type": "markdown",
   "id": "a8164061-b032-4ebd-8abc-dbefb6cedf7f",
   "metadata": {},
   "source": [
    "## Algorithm Demo #1"
   ]
  },
  {
   "cell_type": "code",
   "execution_count": null,
   "id": "5a712434-5e76-4c26-b32b-c2710b03c990",
   "metadata": {},
   "outputs": [],
   "source": []
  },
  {
   "cell_type": "markdown",
   "id": "c48278fd-2c96-4829-807a-2a2a3ade4faf",
   "metadata": {},
   "source": [
    "## Algorithm Demo #2"
   ]
  },
  {
   "cell_type": "code",
   "execution_count": null,
   "id": "f6e7ad13-c042-4e5a-a901-a5012dc2da88",
   "metadata": {},
   "outputs": [],
   "source": []
  },
  {
   "cell_type": "markdown",
   "id": "fda9c5ae-fb10-4b26-bf17-5c9b27e15e40",
   "metadata": {},
   "source": [
    "## Algorithm Demo #3"
   ]
  },
  {
   "cell_type": "code",
   "execution_count": null,
   "id": "e68a825b-3c0e-4db6-8dab-32f26e15a115",
   "metadata": {},
   "outputs": [],
   "source": []
  }
 ],
 "metadata": {
  "kernelspec": {
   "display_name": "Python 3",
   "language": "python",
   "name": "python3"
  },
  "language_info": {
   "codemirror_mode": {
    "name": "ipython",
    "version": 3
   },
   "file_extension": ".py",
   "mimetype": "text/x-python",
   "name": "python",
   "nbconvert_exporter": "python",
   "pygments_lexer": "ipython3",
   "version": "3.8.8"
  }
 },
 "nbformat": 4,
 "nbformat_minor": 5
}
